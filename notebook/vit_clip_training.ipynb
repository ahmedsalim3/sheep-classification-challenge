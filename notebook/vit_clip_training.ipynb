{
 "cells": [
  {
   "cell_type": "markdown",
   "metadata": {},
   "source": [
    "### Concatenation fusion"
   ]
  },
  {
   "cell_type": "code",
   "execution_count": 1,
   "metadata": {},
   "outputs": [
    {
     "name": "stdout",
     "output_type": "stream",
     "text": [
      "25-06-14 05:52:31 - Setting up training data...\n",
      "25-06-14 05:52:32 - Images organized in: data/train_sorted\n",
      "25-06-14 05:52:32 - Training samples: 580, Validation samples: 102\n",
      "25-06-14 05:52:32 - Label to ID: {'Barbari': '0', 'Goat': '1', 'Harri': '2', 'Naeimi': '3', 'Najdi': '4', 'Roman': '5', 'Sawakni': '6'}\n",
      "25-06-14 05:52:32 - Creating Vision Transformer model...\n"
     ]
    },
    {
     "name": "stderr",
     "output_type": "stream",
     "text": [
      "Some weights of ViTForImageClassification were not initialized from the model checkpoint at google/vit-base-patch16-224-in21k and are newly initialized: ['classifier.bias', 'classifier.weight']\n",
      "You should probably TRAIN this model on a down-stream task to be able to use it for predictions and inference.\n"
     ]
    },
    {
     "name": "stdout",
     "output_type": "stream",
     "text": [
      "25-06-14 05:52:33 - Creating hybrid Vision Transformer + CLIP model...\n",
      "25-06-14 05:52:36 - Starting training...\n"
     ]
    },
    {
     "name": "stderr",
     "output_type": "stream",
     "text": [
      "Seed set to 42\n",
      "Using 16bit Automatic Mixed Precision (AMP)\n",
      "Using default `ModelCheckpoint`. Consider installing `litmodels` package to enable `LitModelCheckpoint` for automatic upload to the Lightning model registry.\n",
      "GPU available: True (cuda), used: True\n",
      "TPU available: False, using: 0 TPU cores\n",
      "HPU available: False, using: 0 HPUs\n",
      "LOCAL_RANK: 0 - CUDA_VISIBLE_DEVICES: [0]\n",
      "\n",
      "  | Name         | Type                      | Params | Mode \n",
      "-------------------------------------------------------------------\n",
      "0 | vit_model    | ViTForImageClassification | 85.8 M | eval \n",
      "1 | clip_model   | CLIP                      | 151 M  | eval \n",
      "2 | classifier   | Sequential                | 659 K  | train\n",
      "3 | val_acc      | MulticlassAccuracy        | 0      | train\n",
      "4 | val_f1_macro | MulticlassF1Score         | 0      | train\n",
      "5 | val_f1_micro | MulticlassF1Score         | 0      | train\n",
      "-------------------------------------------------------------------\n",
      "86.5 M    Trainable params\n",
      "151 M     Non-trainable params\n",
      "237 M     Total params\n",
      "950.963   Total estimated model params size (MB)\n",
      "8         Modules in train mode\n",
      "441       Modules in eval mode\n"
     ]
    },
    {
     "name": "stdout",
     "output_type": "stream",
     "text": [
      "Epoch 0: 100%|██████████| 19/19 [00:05<00:00,  3.26it/s]                   \n",
      "Validation: |          | 0/? [00:00<?, ?it/s]\u001b[A\n",
      "Validation:   0%|          | 0/4 [00:00<?, ?it/s]\u001b[A\n",
      "Validation DataLoader 0:   0%|          | 0/4 [00:00<?, ?it/s]\u001b[A\n",
      "Validation DataLoader 0:  25%|██▌       | 1/4 [00:00<00:00, 10.70it/s]\u001b[A\n",
      "Validation DataLoader 0:  50%|█████     | 2/4 [00:00<00:00,  9.71it/s]\u001b[A\n",
      "Validation DataLoader 0:  75%|███████▌  | 3/4 [00:00<00:00,  9.42it/s]\u001b[A\n",
      "Validation DataLoader 0: 100%|██████████| 4/4 [00:00<00:00, 11.02it/s]\u001b[A\n",
      "Epoch 0: 100%|██████████| 19/19 [00:06<00:00,  2.78it/s, val_acc=0.696][A"
     ]
    },
    {
     "name": "stderr",
     "output_type": "stream",
     "text": [
      "Metric val_f1_macro improved. New best score: 0.594\n"
     ]
    },
    {
     "name": "stdout",
     "output_type": "stream",
     "text": [
      "Epoch 1: 100%|██████████| 19/19 [00:06<00:00,  3.14it/s, val_acc=0.696]/19 [00:00<?, ?it/s, val_acc=0.696]\n",
      "Validation: |          | 0/? [00:00<?, ?it/s]\u001b[A\n",
      "Validation:   0%|          | 0/4 [00:00<?, ?it/s]\u001b[A\n",
      "Validation DataLoader 0:   0%|          | 0/4 [00:00<?, ?it/s]\u001b[A\n",
      "Validation DataLoader 0:  25%|██▌       | 1/4 [00:00<00:00, 10.72it/s]\u001b[A\n",
      "Validation DataLoader 0:  50%|█████     | 2/4 [00:00<00:00,  9.79it/s]\u001b[A\n",
      "Validation DataLoader 0:  75%|███████▌  | 3/4 [00:00<00:00,  9.48it/s]\u001b[A\n",
      "Validation DataLoader 0: 100%|██████████| 4/4 [00:00<00:00, 11.27it/s]\u001b[A\n",
      "Epoch 1: 100%|██████████| 19/19 [00:07<00:00,  2.69it/s, val_acc=0.853][A"
     ]
    },
    {
     "name": "stderr",
     "output_type": "stream",
     "text": [
      "Metric val_f1_macro improved by 0.153 >= min_delta = 0.0. New best score: 0.747\n"
     ]
    },
    {
     "name": "stdout",
     "output_type": "stream",
     "text": [
      "Epoch 2: 100%|██████████| 19/19 [00:06<00:00,  3.12it/s, val_acc=0.853]/19 [00:00<?, ?it/s, val_acc=0.853]\n",
      "Validation: |          | 0/? [00:00<?, ?it/s]\u001b[A\n",
      "Validation:   0%|          | 0/4 [00:00<?, ?it/s]\u001b[A\n",
      "Validation DataLoader 0:   0%|          | 0/4 [00:00<?, ?it/s]\u001b[A\n",
      "Validation DataLoader 0:  25%|██▌       | 1/4 [00:00<00:00, 10.75it/s]\u001b[A\n",
      "Validation DataLoader 0:  50%|█████     | 2/4 [00:00<00:00,  9.88it/s]\u001b[A\n",
      "Validation DataLoader 0:  75%|███████▌  | 3/4 [00:00<00:00,  9.55it/s]\u001b[A\n",
      "Epoch 2: 100%|██████████| 19/19 [00:07<00:00,  2.69it/s, val_acc=0.931][A"
     ]
    },
    {
     "name": "stderr",
     "output_type": "stream",
     "text": [
      "Metric val_f1_macro improved by 0.150 >= min_delta = 0.0. New best score: 0.897\n"
     ]
    },
    {
     "name": "stdout",
     "output_type": "stream",
     "text": [
      "Epoch 3: 100%|██████████| 19/19 [00:06<00:00,  3.10it/s, val_acc=0.931]/19 [00:00<?, ?it/s, val_acc=0.931]\n",
      "Validation: |          | 0/? [00:00<?, ?it/s]\u001b[A\n",
      "Validation:   0%|          | 0/4 [00:00<?, ?it/s]\u001b[A\n",
      "Validation DataLoader 0:   0%|          | 0/4 [00:00<?, ?it/s]\u001b[A\n",
      "Validation DataLoader 0:  25%|██▌       | 1/4 [00:00<00:00, 10.70it/s]\u001b[A\n",
      "Validation DataLoader 0:  50%|█████     | 2/4 [00:00<00:00,  9.92it/s]\u001b[A\n",
      "Validation DataLoader 0:  75%|███████▌  | 3/4 [00:00<00:00,  9.65it/s]\u001b[A\n",
      "Validation DataLoader 0: 100%|██████████| 4/4 [00:00<00:00, 11.52it/s]\u001b[A\n",
      "Epoch 3: 100%|██████████| 19/19 [00:07<00:00,  2.70it/s, val_acc=0.931][A"
     ]
    },
    {
     "name": "stderr",
     "output_type": "stream",
     "text": [
      "Metric val_f1_macro improved by 0.005 >= min_delta = 0.0. New best score: 0.903\n"
     ]
    },
    {
     "name": "stdout",
     "output_type": "stream",
     "text": [
      "Epoch 4: 100%|██████████| 19/19 [00:05<00:00,  3.19it/s, val_acc=0.931]/19 [00:00<?, ?it/s, val_acc=0.931]    | 3/19 [00:01<00:07,  2.05it/s, val_acc=0.931]\n",
      "Validation: |          | 0/? [00:00<?, ?it/s]\u001b[A\n",
      "Validation:   0%|          | 0/4 [00:00<?, ?it/s]\u001b[A\n",
      "Validation DataLoader 0:   0%|          | 0/4 [00:00<?, ?it/s]\u001b[A\n",
      "Validation DataLoader 0:  25%|██▌       | 1/4 [00:00<00:00, 10.66it/s]\u001b[A\n",
      "Validation DataLoader 0:  50%|█████     | 2/4 [00:00<00:00,  9.77it/s]\u001b[A\n",
      "Validation DataLoader 0:  75%|███████▌  | 3/4 [00:00<00:00,  9.52it/s]\u001b[A\n",
      "Validation DataLoader 0: 100%|██████████| 4/4 [00:00<00:00, 11.33it/s]\u001b[A\n",
      "Epoch 4: 100%|██████████| 19/19 [00:06<00:00,  2.77it/s, val_acc=0.961][A"
     ]
    },
    {
     "name": "stderr",
     "output_type": "stream",
     "text": [
      "Metric val_f1_macro improved by 0.053 >= min_delta = 0.0. New best score: 0.956\n"
     ]
    },
    {
     "name": "stdout",
     "output_type": "stream",
     "text": [
      "Epoch 5: 100%|██████████| 19/19 [00:05<00:00,  3.21it/s, val_acc=0.961]/19 [00:00<?, ?it/s, val_acc=0.961]\n",
      "Validation: |          | 0/? [00:00<?, ?it/s]\u001b[A\n",
      "Validation:   0%|          | 0/4 [00:00<?, ?it/s]\u001b[A\n",
      "Validation DataLoader 0:   0%|          | 0/4 [00:00<?, ?it/s]\u001b[A\n",
      "Validation DataLoader 0:  25%|██▌       | 1/4 [00:00<00:00, 10.66it/s]\u001b[A\n",
      "Validation DataLoader 0:  50%|█████     | 2/4 [00:00<00:00,  9.82it/s]\u001b[A\n",
      "Validation DataLoader 0:  75%|███████▌  | 3/4 [00:00<00:00,  9.53it/s]\u001b[A\n",
      "Validation DataLoader 0: 100%|██████████| 4/4 [00:00<00:00, 11.34it/s]\u001b[A\n",
      "Epoch 6: 100%|██████████| 19/19 [00:06<00:00,  3.12it/s, val_acc=0.951][A\n",
      "Validation: |          | 0/? [00:00<?, ?it/s]\u001b[A\n",
      "Validation:   0%|          | 0/4 [00:00<?, ?it/s]\u001b[A\n",
      "Validation DataLoader 0:   0%|          | 0/4 [00:00<?, ?it/s]\u001b[A\n",
      "Validation DataLoader 0:  25%|██▌       | 1/4 [00:00<00:00, 10.72it/s]\u001b[A\n",
      "Validation DataLoader 0:  50%|█████     | 2/4 [00:00<00:00,  9.83it/s]\u001b[A\n",
      "Validation DataLoader 0:  75%|███████▌  | 3/4 [00:00<00:00,  9.54it/s]\u001b[A\n",
      "Validation DataLoader 0: 100%|██████████| 4/4 [00:00<00:00, 11.37it/s]\u001b[A\n",
      "Epoch 7: 100%|██████████| 19/19 [00:06<00:00,  3.16it/s, val_acc=0.961][A/19 [00:00<?, ?it/s, val_acc=0.961]\n",
      "Validation: |          | 0/? [00:00<?, ?it/s]\u001b[A\n",
      "Validation:   0%|          | 0/4 [00:00<?, ?it/s]\u001b[A\n",
      "Validation DataLoader 0:   0%|          | 0/4 [00:00<?, ?it/s]\u001b[A\n",
      "Validation DataLoader 0:  25%|██▌       | 1/4 [00:00<00:00, 10.73it/s]\u001b[A\n",
      "Validation DataLoader 0:  50%|█████     | 2/4 [00:00<00:00,  9.83it/s]\u001b[A\n",
      "Validation DataLoader 0:  75%|███████▌  | 3/4 [00:00<00:00,  9.47it/s]\u001b[A\n",
      "Validation DataLoader 0: 100%|██████████| 4/4 [00:00<00:00, 11.22it/s]\u001b[A\n",
      "Epoch 7: 100%|██████████| 19/19 [00:06<00:00,  2.75it/s, val_acc=0.971][A"
     ]
    },
    {
     "name": "stderr",
     "output_type": "stream",
     "text": [
      "Metric val_f1_macro improved by 0.007 >= min_delta = 0.0. New best score: 0.963\n"
     ]
    },
    {
     "name": "stdout",
     "output_type": "stream",
     "text": [
      "Epoch 8: 100%|██████████| 19/19 [00:06<00:00,  3.12it/s, val_acc=0.971]\n",
      "Validation: |          | 0/? [00:00<?, ?it/s]\u001b[A\n",
      "Validation:   0%|          | 0/4 [00:00<?, ?it/s]\u001b[A\n",
      "Validation DataLoader 0:   0%|          | 0/4 [00:00<?, ?it/s]\u001b[A\n",
      "Validation DataLoader 0:  25%|██▌       | 1/4 [00:00<00:00, 10.72it/s]\u001b[A\n",
      "Validation DataLoader 0:  50%|█████     | 2/4 [00:00<00:00,  9.84it/s]\u001b[A\n",
      "Validation DataLoader 0:  75%|███████▌  | 3/4 [00:00<00:00,  9.55it/s]\u001b[A\n",
      "Validation DataLoader 0: 100%|██████████| 4/4 [00:00<00:00, 11.36it/s]\u001b[A\n",
      "Epoch 8: 100%|██████████| 19/19 [00:07<00:00,  2.71it/s, val_acc=0.971][A"
     ]
    },
    {
     "name": "stderr",
     "output_type": "stream",
     "text": [
      "Metric val_f1_macro improved by 0.004 >= min_delta = 0.0. New best score: 0.967\n"
     ]
    },
    {
     "name": "stdout",
     "output_type": "stream",
     "text": [
      "Epoch 9: 100%|██████████| 19/19 [00:05<00:00,  3.22it/s, val_acc=0.971]/19 [00:00<?, ?it/s, val_acc=0.971]\n",
      "Validation: |          | 0/? [00:00<?, ?it/s]\u001b[A\n",
      "Validation:   0%|          | 0/4 [00:00<?, ?it/s]\u001b[A\n",
      "Validation DataLoader 0:   0%|          | 0/4 [00:00<?, ?it/s]\u001b[A\n",
      "Validation DataLoader 0:  25%|██▌       | 1/4 [00:00<00:00, 10.80it/s]\u001b[A\n",
      "Validation DataLoader 0:  50%|█████     | 2/4 [00:00<00:00,  9.86it/s]\u001b[A\n",
      "Validation DataLoader 0:  75%|███████▌  | 3/4 [00:00<00:00,  9.59it/s]\u001b[A\n",
      "Validation DataLoader 0: 100%|██████████| 4/4 [00:00<00:00, 11.43it/s]\u001b[A\n",
      "Epoch 9: 100%|██████████| 19/19 [00:06<00:00,  2.79it/s, val_acc=0.971][A"
     ]
    },
    {
     "name": "stderr",
     "output_type": "stream",
     "text": [
      "`Trainer.fit` stopped: `max_epochs=10` reached.\n"
     ]
    },
    {
     "name": "stdout",
     "output_type": "stream",
     "text": [
      "Epoch 9: 100%|██████████| 19/19 [00:14<00:00,  1.33it/s, val_acc=0.971]\n",
      "25-06-14 05:55:06 - Saving model...\n",
      "25-06-14 05:55:08 - Hybrid model and feature extractor saved to output/models\n",
      "25-06-14 05:55:08 - Evaluating hybrid model...\n",
      "25-06-14 05:55:10 - Hybrid Vision Transformer + CLIP Validation Macro F1 Score: 0.9667\n",
      "25-06-14 05:55:10 - Creating visualizations...\n",
      "25-06-14 05:55:12 - Visualizations saved to output\n",
      "25-06-14 05:55:12 - Generating predictions for test data...\n",
      "25-06-14 05:55:13 - Predictions saved to output\n",
      "25-06-14 05:55:13 - Pipeline completed successfully!\n",
      "Final F1 Score: 0.9667\n"
     ]
    }
   ],
   "source": [
    "%%bash\n",
    "\n",
    "cd ..\n",
    "python3 -W ignore ./scripts/train_vit_clip.py"
   ]
  },
  {
   "cell_type": "markdown",
   "metadata": {},
   "source": [
    "### Attention fusion"
   ]
  },
  {
   "cell_type": "code",
   "execution_count": 1,
   "metadata": {},
   "outputs": [
    {
     "name": "stdout",
     "output_type": "stream",
     "text": [
      "25-06-14 06:27:00 - Setting up training data...\n",
      "25-06-14 06:27:00 - Images organized in: data/train_sorted\n",
      "25-06-14 06:27:00 - Training samples: 580, Validation samples: 102\n",
      "25-06-14 06:27:00 - Label to ID: {'Barbari': '0', 'Goat': '1', 'Harri': '2', 'Naeimi': '3', 'Najdi': '4', 'Roman': '5', 'Sawakni': '6'}\n",
      "25-06-14 06:27:00 - Creating Vision Transformer model...\n"
     ]
    },
    {
     "name": "stderr",
     "output_type": "stream",
     "text": [
      "Some weights of ViTForImageClassification were not initialized from the model checkpoint at google/vit-base-patch16-224-in21k and are newly initialized: ['classifier.bias', 'classifier.weight']\n",
      "You should probably TRAIN this model on a down-stream task to be able to use it for predictions and inference.\n"
     ]
    },
    {
     "name": "stdout",
     "output_type": "stream",
     "text": [
      "25-06-14 06:27:01 - Creating hybrid Vision Transformer + CLIP model...\n",
      "25-06-14 06:27:04 - Starting training...\n"
     ]
    },
    {
     "name": "stderr",
     "output_type": "stream",
     "text": [
      "Seed set to 42\n",
      "Using 16bit Automatic Mixed Precision (AMP)\n",
      "Using default `ModelCheckpoint`. Consider installing `litmodels` package to enable `LitModelCheckpoint` for automatic upload to the Lightning model registry.\n",
      "GPU available: True (cuda), used: True\n",
      "TPU available: False, using: 0 TPU cores\n",
      "HPU available: False, using: 0 HPUs\n",
      "LOCAL_RANK: 0 - CUDA_VISIBLE_DEVICES: [0]\n",
      "\n",
      "  | Name         | Type                      | Params | Mode \n",
      "-------------------------------------------------------------------\n",
      "0 | vit_model    | ViTForImageClassification | 85.8 M | eval \n",
      "1 | clip_model   | CLIP                      | 151 M  | eval \n",
      "2 | classifier   | Sequential                | 659 K  | train\n",
      "3 | val_acc      | MulticlassAccuracy        | 0      | train\n",
      "4 | val_f1_macro | MulticlassF1Score         | 0      | train\n",
      "5 | val_f1_micro | MulticlassF1Score         | 0      | train\n",
      "-------------------------------------------------------------------\n",
      "86.5 M    Trainable params\n",
      "151 M     Non-trainable params\n",
      "237 M     Total params\n",
      "950.963   Total estimated model params size (MB)\n",
      "8         Modules in train mode\n",
      "441       Modules in eval mode\n"
     ]
    },
    {
     "name": "stdout",
     "output_type": "stream",
     "text": [
      "Epoch 0: 100%|██████████| 19/19 [00:05<00:00,  3.38it/s]                   \n",
      "Validation: |          | 0/? [00:00<?, ?it/s]\u001b[A\n",
      "Validation:   0%|          | 0/4 [00:00<?, ?it/s]\u001b[A\n",
      "Validation DataLoader 0:   0%|          | 0/4 [00:00<?, ?it/s]\u001b[A\n",
      "Validation DataLoader 0:  25%|██▌       | 1/4 [00:00<00:00, 10.67it/s]\u001b[A\n",
      "Validation DataLoader 0:  50%|█████     | 2/4 [00:00<00:00,  9.90it/s]\u001b[A\n",
      "Validation DataLoader 0:  75%|███████▌  | 3/4 [00:00<00:00,  9.63it/s]\u001b[A\n",
      "Validation DataLoader 0: 100%|██████████| 4/4 [00:00<00:00, 11.45it/s]\u001b[A\n",
      "Epoch 0: 100%|██████████| 19/19 [00:06<00:00,  2.92it/s, val_acc=0.696][A"
     ]
    },
    {
     "name": "stderr",
     "output_type": "stream",
     "text": [
      "Metric val_f1_macro improved. New best score: 0.594\n"
     ]
    },
    {
     "name": "stdout",
     "output_type": "stream",
     "text": [
      "Epoch 1: 100%|██████████| 19/19 [00:05<00:00,  3.22it/s, val_acc=0.696]    | 3/19 [00:01<00:07,  2.14it/s, val_acc=0.696]\n",
      "Validation: |          | 0/? [00:00<?, ?it/s]\u001b[A\n",
      "Validation:   0%|          | 0/4 [00:00<?, ?it/s]\u001b[A\n",
      "Validation DataLoader 0:   0%|          | 0/4 [00:00<?, ?it/s]\u001b[A\n",
      "Validation DataLoader 0:  25%|██▌       | 1/4 [00:00<00:00, 10.77it/s]\u001b[A\n",
      "Validation DataLoader 0:  50%|█████     | 2/4 [00:00<00:00,  9.87it/s]\u001b[A\n",
      "Validation DataLoader 0:  75%|███████▌  | 3/4 [00:00<00:00,  9.57it/s]\u001b[A\n",
      "Validation DataLoader 0: 100%|██████████| 4/4 [00:00<00:00, 11.38it/s]\u001b[A\n",
      "Epoch 1: 100%|██████████| 19/19 [00:06<00:00,  2.79it/s, val_acc=0.853][A"
     ]
    },
    {
     "name": "stderr",
     "output_type": "stream",
     "text": [
      "Metric val_f1_macro improved by 0.153 >= min_delta = 0.0. New best score: 0.747\n"
     ]
    },
    {
     "name": "stdout",
     "output_type": "stream",
     "text": [
      "Epoch 2: 100%|██████████| 19/19 [00:05<00:00,  3.19it/s, val_acc=0.853]/19 [00:00<?, ?it/s, val_acc=0.853]\n",
      "Validation: |          | 0/? [00:00<?, ?it/s]\u001b[A\n",
      "Validation:   0%|          | 0/4 [00:00<?, ?it/s]\u001b[A\n",
      "Validation DataLoader 0:   0%|          | 0/4 [00:00<?, ?it/s]\u001b[A\n",
      "Validation DataLoader 0:  25%|██▌       | 1/4 [00:00<00:00, 10.77it/s]\u001b[A\n",
      "Validation DataLoader 0:  50%|█████     | 2/4 [00:00<00:00,  9.83it/s]\u001b[A\n",
      "Validation DataLoader 0:  75%|███████▌  | 3/4 [00:00<00:00,  9.56it/s]\u001b[A\n",
      "Validation DataLoader 0: 100%|██████████| 4/4 [00:00<00:00, 11.37it/s]\u001b[A\n",
      "Epoch 2: 100%|██████████| 19/19 [00:06<00:00,  2.76it/s, val_acc=0.931][A"
     ]
    },
    {
     "name": "stderr",
     "output_type": "stream",
     "text": [
      "Metric val_f1_macro improved by 0.150 >= min_delta = 0.0. New best score: 0.897\n"
     ]
    },
    {
     "name": "stdout",
     "output_type": "stream",
     "text": [
      "Epoch 3: 100%|██████████| 19/19 [00:06<00:00,  3.16it/s, val_acc=0.931]/19 [00:00<?, ?it/s, val_acc=0.931]\n",
      "Validation: |          | 0/? [00:00<?, ?it/s]\u001b[A\n",
      "Validation:   0%|          | 0/4 [00:00<?, ?it/s]\u001b[A\n",
      "Validation DataLoader 0:   0%|          | 0/4 [00:00<?, ?it/s]\u001b[A\n",
      "Validation DataLoader 0:  25%|██▌       | 1/4 [00:00<00:00, 10.61it/s]\u001b[A\n",
      "Validation DataLoader 0:  50%|█████     | 2/4 [00:00<00:00,  9.79it/s]\u001b[A\n",
      "Validation DataLoader 0:  75%|███████▌  | 3/4 [00:00<00:00,  9.53it/s]\u001b[A\n",
      "Validation DataLoader 0: 100%|██████████| 4/4 [00:00<00:00, 11.32it/s]\u001b[A\n",
      "Epoch 3: 100%|██████████| 19/19 [00:06<00:00,  2.73it/s, val_acc=0.931][A"
     ]
    },
    {
     "name": "stderr",
     "output_type": "stream",
     "text": [
      "Metric val_f1_macro improved by 0.005 >= min_delta = 0.0. New best score: 0.903\n"
     ]
    },
    {
     "name": "stdout",
     "output_type": "stream",
     "text": [
      "Epoch 4: 100%|██████████| 19/19 [00:06<00:00,  3.15it/s, val_acc=0.931]\n",
      "Validation: |          | 0/? [00:00<?, ?it/s]\u001b[A\n",
      "Validation:   0%|          | 0/4 [00:00<?, ?it/s]\u001b[A\n",
      "Validation DataLoader 0:   0%|          | 0/4 [00:00<?, ?it/s]\u001b[A\n",
      "Validation DataLoader 0:  25%|██▌       | 1/4 [00:00<00:00, 10.74it/s]\u001b[A\n",
      "Validation DataLoader 0:  50%|█████     | 2/4 [00:00<00:00,  9.78it/s]\u001b[A\n",
      "Validation DataLoader 0:  75%|███████▌  | 3/4 [00:00<00:00,  9.49it/s]\u001b[A\n",
      "Validation DataLoader 0: 100%|██████████| 4/4 [00:00<00:00, 11.31it/s]\u001b[A\n",
      "Epoch 4: 100%|██████████| 19/19 [00:06<00:00,  2.74it/s, val_acc=0.961][A"
     ]
    },
    {
     "name": "stderr",
     "output_type": "stream",
     "text": [
      "Metric val_f1_macro improved by 0.053 >= min_delta = 0.0. New best score: 0.956\n"
     ]
    },
    {
     "name": "stdout",
     "output_type": "stream",
     "text": [
      "Epoch 5: 100%|██████████| 19/19 [00:05<00:00,  3.19it/s, val_acc=0.961]\n",
      "Validation: |          | 0/? [00:00<?, ?it/s]\u001b[A\n",
      "Validation:   0%|          | 0/4 [00:00<?, ?it/s]\u001b[A\n",
      "Validation DataLoader 0:   0%|          | 0/4 [00:00<?, ?it/s]\u001b[A\n",
      "Validation DataLoader 0:  25%|██▌       | 1/4 [00:00<00:00, 10.74it/s]\u001b[A\n",
      "Validation DataLoader 0:  50%|█████     | 2/4 [00:00<00:00,  9.87it/s]\u001b[A\n",
      "Validation DataLoader 0:  75%|███████▌  | 3/4 [00:00<00:00,  9.60it/s]\u001b[A\n",
      "Validation DataLoader 0: 100%|██████████| 4/4 [00:00<00:00, 11.45it/s]\u001b[A\n",
      "Epoch 6: 100%|██████████| 19/19 [00:06<00:00,  3.15it/s, val_acc=0.951][A/19 [00:00<?, ?it/s, val_acc=0.951]\n",
      "Validation: |          | 0/? [00:00<?, ?it/s]\u001b[A\n",
      "Validation:   0%|          | 0/4 [00:00<?, ?it/s]\u001b[A\n",
      "Validation DataLoader 0:   0%|          | 0/4 [00:00<?, ?it/s]\u001b[A\n",
      "Validation DataLoader 0:  25%|██▌       | 1/4 [00:00<00:00, 10.78it/s]\u001b[A\n",
      "Validation DataLoader 0:  50%|█████     | 2/4 [00:00<00:00,  9.87it/s]\u001b[A\n",
      "Validation DataLoader 0:  75%|███████▌  | 3/4 [00:00<00:00,  9.53it/s]\u001b[A\n",
      "Validation DataLoader 0: 100%|██████████| 4/4 [00:00<00:00, 11.29it/s]\u001b[A\n",
      "Epoch 7: 100%|██████████| 19/19 [00:05<00:00,  3.17it/s, val_acc=0.961][A\n",
      "Validation: |          | 0/? [00:00<?, ?it/s]\u001b[A\n",
      "Validation:   0%|          | 0/4 [00:00<?, ?it/s]\u001b[A\n",
      "Validation DataLoader 0:   0%|          | 0/4 [00:00<?, ?it/s]\u001b[A\n",
      "Validation DataLoader 0:  25%|██▌       | 1/4 [00:00<00:00, 10.51it/s]\u001b[A\n",
      "Validation DataLoader 0:  50%|█████     | 2/4 [00:00<00:00,  9.53it/s]\u001b[A\n",
      "Validation DataLoader 0:  75%|███████▌  | 3/4 [00:00<00:00,  9.25it/s]\u001b[A\n",
      "Validation DataLoader 0: 100%|██████████| 4/4 [00:00<00:00, 11.05it/s]\u001b[A\n",
      "Epoch 7: 100%|██████████| 19/19 [00:06<00:00,  2.73it/s, val_acc=0.971][A"
     ]
    },
    {
     "name": "stderr",
     "output_type": "stream",
     "text": [
      "Metric val_f1_macro improved by 0.007 >= min_delta = 0.0. New best score: 0.963\n"
     ]
    },
    {
     "name": "stdout",
     "output_type": "stream",
     "text": [
      "Epoch 8: 100%|██████████| 19/19 [00:06<00:00,  3.15it/s, val_acc=0.971]/19 [00:00<?, ?it/s, val_acc=0.971]\n",
      "Validation: |          | 0/? [00:00<?, ?it/s]\u001b[A\n",
      "Validation:   0%|          | 0/4 [00:00<?, ?it/s]\u001b[A\n",
      "Validation DataLoader 0:   0%|          | 0/4 [00:00<?, ?it/s]\u001b[A\n",
      "Validation DataLoader 0:  25%|██▌       | 1/4 [00:00<00:00, 10.79it/s]\u001b[A\n",
      "Validation DataLoader 0:  50%|█████     | 2/4 [00:00<00:00,  9.90it/s]\u001b[A\n",
      "Validation DataLoader 0:  75%|███████▌  | 3/4 [00:00<00:00,  9.66it/s]\u001b[A\n",
      "Validation DataLoader 0: 100%|██████████| 4/4 [00:00<00:00, 11.54it/s]\u001b[A\n",
      "Epoch 8: 100%|██████████| 19/19 [00:06<00:00,  2.76it/s, val_acc=0.971][A"
     ]
    },
    {
     "name": "stderr",
     "output_type": "stream",
     "text": [
      "Metric val_f1_macro improved by 0.004 >= min_delta = 0.0. New best score: 0.967\n"
     ]
    },
    {
     "name": "stdout",
     "output_type": "stream",
     "text": [
      "Epoch 9: 100%|██████████| 19/19 [00:05<00:00,  3.25it/s, val_acc=0.971]/19 [00:00<?, ?it/s, val_acc=0.971]|██████▎   | 12/19 [00:04<00:02,  3.00it/s, val_acc=0.971]|██████▊   | 13/19 [00:04<00:01,  3.03it/s, val_acc=0.971]\n",
      "Validation: |          | 0/? [00:00<?, ?it/s]\u001b[A\n",
      "Validation:   0%|          | 0/4 [00:00<?, ?it/s]\u001b[A\n",
      "Validation DataLoader 0:   0%|          | 0/4 [00:00<?, ?it/s]\u001b[A\n",
      "Validation DataLoader 0:  25%|██▌       | 1/4 [00:00<00:00, 10.72it/s]\u001b[A\n",
      "Validation DataLoader 0:  50%|█████     | 2/4 [00:00<00:00,  9.89it/s]\u001b[A\n",
      "Validation DataLoader 0:  75%|███████▌  | 3/4 [00:00<00:00,  9.66it/s]\u001b[A\n",
      "Validation DataLoader 0: 100%|██████████| 4/4 [00:00<00:00, 11.56it/s]\u001b[A\n",
      "Epoch 9: 100%|██████████| 19/19 [00:06<00:00,  2.83it/s, val_acc=0.971][A��██████| 19/19 [00:06<00:00,  2.83it/s, val_acc=0.971]"
     ]
    },
    {
     "name": "stderr",
     "output_type": "stream",
     "text": [
      "`Trainer.fit` stopped: `max_epochs=10` reached.\n"
     ]
    },
    {
     "name": "stdout",
     "output_type": "stream",
     "text": [
      "Epoch 9: 100%|██████████| 19/19 [00:13<00:00,  1.36it/s, val_acc=0.971]\n",
      "25-06-14 06:29:30 - Saving model...\n",
      "25-06-14 06:29:32 - Hybrid model and feature extractor saved to output/models\n",
      "25-06-14 06:29:32 - Evaluating hybrid model...\n",
      "25-06-14 06:29:34 - Hybrid Vision Transformer + CLIP Validation Macro F1 Score: 0.9667\n",
      "25-06-14 06:29:34 - Creating visualizations...\n",
      "25-06-14 06:29:35 - Visualizations saved to output\n",
      "25-06-14 06:29:35 - Generating predictions for test data...\n",
      "25-06-14 06:29:37 - Predictions saved to output\n",
      "25-06-14 06:29:37 - Pipeline completed successfully!\n",
      "Final F1 Score: 0.9667\n"
     ]
    }
   ],
   "source": [
    "%%bash\n",
    "\n",
    "cd ..\n",
    "python3 -W ignore ./scripts/train_vit_clip.py"
   ]
  },
  {
   "cell_type": "code",
   "execution_count": null,
   "metadata": {},
   "outputs": [],
   "source": []
  }
 ],
 "metadata": {
  "kernelspec": {
   "display_name": ".venv",
   "language": "python",
   "name": "python3"
  },
  "language_info": {
   "codemirror_mode": {
    "name": "ipython",
    "version": 3
   },
   "file_extension": ".py",
   "mimetype": "text/x-python",
   "name": "python",
   "nbconvert_exporter": "python",
   "pygments_lexer": "ipython3",
   "version": "3.12.3"
  }
 },
 "nbformat": 4,
 "nbformat_minor": 2
}
